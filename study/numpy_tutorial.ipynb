{
 "cells": [
  {
   "cell_type": "markdown",
   "metadata": {},
   "source": [
    "# numpy tutorial\n",
    "@sohyunwriter\n",
    "\n",
    "range, copy, ones, zeros, empty, shape, \n",
    "\n",
    "드미트리 지노비에프, <모두의 데이터과학 with 파이썬https://studymake.tistory.com/406\n"
   ]
  },
  {
   "cell_type": "code",
   "execution_count": 1,
   "metadata": {},
   "outputs": [
    {
     "name": "stdout",
     "output_type": "stream",
     "text": [
      "[ 1  2  3  4  5  6  7  8  9 10]\n"
     ]
    }
   ],
   "source": [
    "import numpy as np\n",
    "\n",
    "## make array\n",
    "# range()\n",
    "numbers = np.array(range(1,11), copy=True) \n",
    "print(numbers)"
   ]
  },
  {
   "cell_type": "markdown",
   "metadata": {},
   "source": [
    "I wonder the difference between copy=True / copy=False.\n",
    "\n",
    "Below code is to understand the difference."
   ]
  },
  {
   "cell_type": "markdown",
   "metadata": {},
   "source": [
    "## copy()"
   ]
  },
  {
   "cell_type": "code",
   "execution_count": 2,
   "metadata": {},
   "outputs": [
    {
     "name": "stdout",
     "output_type": "stream",
     "text": [
      "[[0 1 2 3]\n",
      " [4 5 6 7]]\n"
     ]
    }
   ],
   "source": [
    "## copy()\n",
    "arr = np.arange(8).reshape(2,4) # original data\n",
    "print(arr)"
   ]
  },
  {
   "cell_type": "code",
   "execution_count": 3,
   "metadata": {},
   "outputs": [
    {
     "name": "stdout",
     "output_type": "stream",
     "text": [
      "[0 1 2 3]\n",
      "[0 1 2 3]\n"
     ]
    }
   ],
   "source": [
    "arr2 = arr\n",
    "b = arr[0] # not copy (view)\n",
    "print(b)\n",
    "\n",
    "b2 = arr[0].copy() # copy (copied array)\n",
    "print(b2)"
   ]
  },
  {
   "cell_type": "code",
   "execution_count": 4,
   "metadata": {},
   "outputs": [
    {
     "name": "stdout",
     "output_type": "stream",
     "text": [
      "[10  1  2  3]\n",
      "[[10  1  2  3]\n",
      " [ 4  5  6  7]]\n"
     ]
    }
   ],
   "source": [
    "b[0] = 10\n",
    "print(b)\n",
    "print(arr) # original data also changes because pointing that array b changes"
   ]
  },
  {
   "cell_type": "code",
   "execution_count": 5,
   "metadata": {},
   "outputs": [
    {
     "name": "stdout",
     "output_type": "stream",
     "text": [
      "[12  1  2  3]\n",
      "[[10  1  2  3]\n",
      " [ 4  5  6  7]]\n"
     ]
    }
   ],
   "source": [
    "b2[0] = 12\n",
    "print(b2)\n",
    "print(arr) # original data is not changed, and only copied data is changed"
   ]
  },
  {
   "cell_type": "markdown",
   "metadata": {},
   "source": [
    "## ones(), zeros(), empty(), eye()"
   ]
  },
  {
   "cell_type": "code",
   "execution_count": 6,
   "metadata": {},
   "outputs": [
    {
     "name": "stdout",
     "output_type": "stream",
     "text": [
      "[[1. 1. 1. 1.]\n",
      " [1. 1. 1. 1.]]\n"
     ]
    }
   ],
   "source": [
    "# ones(), zeros(), empty() : list or tuple of the rank of array as parameter\n",
    "# ones()\n",
    "ones = np.ones([2, 4], dtype=np.float64)\n",
    "print(ones)"
   ]
  },
  {
   "cell_type": "code",
   "execution_count": 7,
   "metadata": {},
   "outputs": [
    {
     "name": "stdout",
     "output_type": "stream",
     "text": [
      "[[0. 0. 0. 0.]\n",
      " [0. 0. 0. 0.]]\n"
     ]
    }
   ],
   "source": [
    "# zeros()\n",
    "zeros = np.zeros([2, 4], dtype=np.float64)\n",
    "print(zeros)"
   ]
  },
  {
   "cell_type": "code",
   "execution_count": 8,
   "metadata": {},
   "outputs": [
    {
     "name": "stdout",
     "output_type": "stream",
     "text": [
      "[[0. 0. 0. 0.]\n",
      " [0. 0. 0. 0.]]\n"
     ]
    }
   ],
   "source": [
    "# empty()\n",
    "empty = np.empty([2, 4], dtype=np.float64)\n",
    "print(empty) # elements of array is not always zero **"
   ]
  },
  {
   "cell_type": "code",
   "execution_count": 9,
   "metadata": {},
   "outputs": [
    {
     "name": "stdout",
     "output_type": "stream",
     "text": [
      "[[0. 1. 0.]\n",
      " [0. 0. 1.]\n",
      " [0. 0. 0.]]\n"
     ]
    }
   ],
   "source": [
    "# eye(N, M=None, k=0, dtype=np.float) : Return a matrix having 1’s on the diagonal and 0’s elsewhere w.r.t. k.\n",
    "eye = np.eye(3, k=1)\n",
    "print(eye)"
   ]
  },
  {
   "cell_type": "markdown",
   "metadata": {},
   "source": [
    "# shape, ndim, dtype"
   ]
  },
  {
   "cell_type": "code",
   "execution_count": 10,
   "metadata": {},
   "outputs": [
    {
     "name": "stdout",
     "output_type": "stream",
     "text": [
      "(2, 4)\n"
     ]
    }
   ],
   "source": [
    "# shape, ndim, dtype\n",
    "arr = np.arange(8).reshape(2,4) # array\n",
    "print(arr.shape) # shape"
   ]
  },
  {
   "cell_type": "code",
   "execution_count": 11,
   "metadata": {},
   "outputs": [
    {
     "name": "stdout",
     "output_type": "stream",
     "text": [
      "2\n"
     ]
    }
   ],
   "source": [
    "print(arr.ndim) # ndim : dimension of array"
   ]
  },
  {
   "cell_type": "code",
   "execution_count": 12,
   "metadata": {},
   "outputs": [
    {
     "name": "stdout",
     "output_type": "stream",
     "text": [
      "float64\n"
     ]
    }
   ],
   "source": [
    "print(zeros.dtype) # element data type of array"
   ]
  },
  {
   "cell_type": "code",
   "execution_count": 13,
   "metadata": {},
   "outputs": [
    {
     "name": "stdout",
     "output_type": "stream",
     "text": [
      "[2.   2.25 2.5  2.75 3.   3.25 3.5  3.75 4.   4.25 4.5  4.75]\n"
     ]
    }
   ],
   "source": [
    "# arange(start, stop, step, dtype=None)\n",
    "np_numbers = np.arange(2, 5, 0.25)\n",
    "print(np_numbers)"
   ]
  },
  {
   "cell_type": "code",
   "execution_count": 14,
   "metadata": {},
   "outputs": [
    {
     "name": "stdout",
     "output_type": "stream",
     "text": [
      "[2 2 2 2 3 3 3 3 4 4 4 4]\n"
     ]
    }
   ],
   "source": [
    "# astype(dtype, casting=\"unsafe\", copy=True)\n",
    "np_inumbers = np_numbers.astype(np.int)\n",
    "print(np_inumbers)"
   ]
  },
  {
   "cell_type": "markdown",
   "metadata": {},
   "source": [
    "## reshape()"
   ]
  },
  {
   "cell_type": "code",
   "execution_count": 15,
   "metadata": {},
   "outputs": [
    {
     "name": "stdout",
     "output_type": "stream",
     "text": [
      "[[[0 1]\n",
      "  [2 3]]\n",
      "\n",
      " [[4 5]\n",
      "  [6 7]]]\n"
     ]
    }
   ],
   "source": [
    "## transpose, \n",
    "temp = np.arange(0, 8).reshape(2,2,2)\n",
    "print(temp)"
   ]
  },
  {
   "cell_type": "code",
   "execution_count": 16,
   "metadata": {},
   "outputs": [
    {
     "name": "stdout",
     "output_type": "stream",
     "text": [
      "[[0 1 2 3]\n",
      " [4 5 6 7]]\n"
     ]
    }
   ],
   "source": [
    "temp2 = temp.reshape(2, 4)\n",
    "print(temp2)"
   ]
  },
  {
   "cell_type": "markdown",
   "metadata": {},
   "source": [
    "## transpose()"
   ]
  },
  {
   "cell_type": "code",
   "execution_count": 17,
   "metadata": {
    "scrolled": true
   },
   "outputs": [
    {
     "name": "stdout",
     "output_type": "stream",
     "text": [
      "[[0 4]\n",
      " [1 5]\n",
      " [2 6]\n",
      " [3 7]]\n"
     ]
    }
   ],
   "source": [
    "print(temp2.T)"
   ]
  },
  {
   "cell_type": "code",
   "execution_count": 18,
   "metadata": {},
   "outputs": [
    {
     "name": "stdout",
     "output_type": "stream",
     "text": [
      "[1 2 3 4 5 6 7 8 9]\n",
      "[1 2 3 4 5 6 7 8 9]\n"
     ]
    }
   ],
   "source": [
    "temp = np.array(range(1, 10))\n",
    "print(temp)\n",
    "print(temp.T)"
   ]
  },
  {
   "cell_type": "markdown",
   "metadata": {},
   "source": [
    "Through above code, we can see there is no change between transpose of data and data when ndim is 1.\n",
    "\n",
    "when ndim == 1, data.T == data\n",
    "\n",
    "when ndim >= 2, transpose"
   ]
  },
  {
   "cell_type": "markdown",
   "metadata": {},
   "source": [
    "## boolean indexing"
   ]
  },
  {
   "cell_type": "code",
   "execution_count": 19,
   "metadata": {},
   "outputs": [
    {
     "name": "stdout",
     "output_type": "stream",
     "text": [
      "[False False False  True  True  True]\n"
     ]
    }
   ],
   "source": [
    "dirty = np.array([9, 4, 1, -0.01, -0.02, -0.001])\n",
    "whos_dirty = dirty < 0\n",
    "print(whos_dirty)"
   ]
  },
  {
   "cell_type": "code",
   "execution_count": 20,
   "metadata": {},
   "outputs": [
    {
     "name": "stdout",
     "output_type": "stream",
     "text": [
      "[9. 4. 1. 0. 0. 0.]\n"
     ]
    }
   ],
   "source": [
    "dirty[whos_dirty] = 0\n",
    "print(dirty)"
   ]
  },
  {
   "cell_type": "code",
   "execution_count": 21,
   "metadata": {},
   "outputs": [
    {
     "name": "stdout",
     "output_type": "stream",
     "text": [
      "[-1.00000000e+00 -8.00000000e-01 -6.00000000e-01 -4.00000000e-01\n",
      " -2.00000000e-01 -2.22044605e-16  2.00000000e-01  4.00000000e-01\n",
      "  6.00000000e-01  8.00000000e-01  1.00000000e+00]\n",
      "[False False False  True  True  True  True  True False False False]\n"
     ]
    }
   ],
   "source": [
    "linear = np.arange(-1, 1.1, 0.2)\n",
    "print(linear)\n",
    "print((linear <= 0.5) & (linear >= -0.5))"
   ]
  },
  {
   "cell_type": "markdown",
   "metadata": {},
   "source": [
    "# ex) zero mask exercise\n",
    "ReLU Function. ReLU(x) = max(0, x)\n",
    "Implement forward & backward path of ReLU.\n",
    "\n",
    "ReLU Forward : ReLU(x) = max(0, x)\n",
    "[INPUTS] z : \n",
    "[OUTPUTS] out : ReLU(z)"
   ]
  },
  {
   "cell_type": "code",
   "execution_count": 22,
   "metadata": {},
   "outputs": [],
   "source": [
    "## code"
   ]
  },
  {
   "cell_type": "markdown",
   "metadata": {},
   "source": [
    "## indexing, slicing"
   ]
  },
  {
   "cell_type": "code",
   "execution_count": 23,
   "metadata": {},
   "outputs": [
    {
     "name": "stdout",
     "output_type": "stream",
     "text": [
      "['ABT' 'ABBV' 'ADT']\n"
     ]
    }
   ],
   "source": [
    "# smart indexing\n",
    "sap = np.array([\"MMM\", \"ABT\", \"ABBV\", \"ACN\", \"ACE\", \"ATVI\", \"ADBE\", \"ADT\"])\n",
    "print(sap[[1, 2, -1]]) # -1 means the last element"
   ]
  },
  {
   "cell_type": "code",
   "execution_count": 24,
   "metadata": {},
   "outputs": [
    {
     "name": "stdout",
     "output_type": "stream",
     "text": [
      "[['MMM' 'ABT' 'ABBV' 'ACN']\n",
      " ['ACE' 'ATVI' 'ADBE' 'ADT']]\n",
      "[['ABT']\n",
      " ['ATVI']]\n",
      "['ABT' 'ATVI']\n"
     ]
    }
   ],
   "source": [
    "# smart slicing\n",
    "sap2d = sap.reshape(2,4)\n",
    "print(sap2d)\n",
    "print(sap2d[:, [1]]) # 2 dimension array\n",
    "print(sap2d[:, 1]) # 1 dimension array"
   ]
  },
  {
   "cell_type": "markdown",
   "metadata": {},
   "source": [
    "# ex) train_x, train_y separate"
   ]
  },
  {
   "cell_type": "code",
   "execution_count": 26,
   "metadata": {},
   "outputs": [
    {
     "name": "stdout",
     "output_type": "stream",
     "text": [
      "[0 1 2 3]\n"
     ]
    }
   ],
   "source": [
    "a = np.arange(4)\n",
    "print(a)"
   ]
  },
  {
   "cell_type": "code",
   "execution_count": 44,
   "metadata": {},
   "outputs": [
    {
     "name": "stdout",
     "output_type": "stream",
     "text": [
      "[-1.00000000e+00 -8.00000000e-01 -6.00000000e-01 -4.00000000e-01\n",
      " -2.00000000e-01 -2.22044605e-16  2.00000000e-01  4.00000000e-01\n",
      "  6.00000000e-01  8.00000000e-01  1.00000000e+00]\n",
      "[False False False  True  True  True  True  True False False False]\n"
     ]
    }
   ],
   "source": [
    "linear = np.arange(-1, 1.1, 0.2)\n",
    "print(linear)\n",
    "print((linear <= 0.5) & (linear >= -0.5))"
   ]
  },
  {
   "cell_type": "code",
   "execution_count": 27,
   "metadata": {},
   "outputs": [
    {
     "name": "stdout",
     "output_type": "stream",
     "text": [
      "[1 2 3 4]\n"
     ]
    }
   ],
   "source": [
    "b = np.arange(1, 5)\n",
    "print(b)"
   ]
  },
  {
   "cell_type": "markdown",
   "metadata": {},
   "source": [
    "## Broadcasting (배열에서 벡터 연산)"
   ]
  },
  {
   "cell_type": "code",
   "execution_count": 28,
   "metadata": {},
   "outputs": [
    {
     "name": "stdout",
     "output_type": "stream",
     "text": [
      "[1 3 5 7]\n"
     ]
    }
   ],
   "source": [
    "print(a+b) # vector +, -, *, / vector  -> don't have to use 'for'"
   ]
  },
  {
   "cell_type": "code",
   "execution_count": 29,
   "metadata": {},
   "outputs": [
    {
     "name": "stdout",
     "output_type": "stream",
     "text": [
      "[ 0  5 10 15]\n"
     ]
    }
   ],
   "source": [
    "print(a*5) # vector * scalar"
   ]
  },
  {
   "cell_type": "code",
   "execution_count": 30,
   "metadata": {},
   "outputs": [
    {
     "name": "stdout",
     "output_type": "stream",
     "text": [
      "[[1.01 0.01 0.01 0.01]\n",
      " [0.01 1.01 0.01 0.01]\n",
      " [0.01 0.01 1.01 0.01]\n",
      " [0.01 0.01 0.01 1.01]]\n"
     ]
    }
   ],
   "source": [
    "noise = np.eye(4) + 0.01 * np.ones((4, ))\n",
    "print(noise)"
   ]
  },
  {
   "cell_type": "code",
   "execution_count": 31,
   "metadata": {},
   "outputs": [
    {
     "name": "stdout",
     "output_type": "stream",
     "text": [
      "[[1.   0.01 0.01 0.01]\n",
      " [0.01 1.01 0.01 0.01]\n",
      " [0.01 0.01 1.   0.  ]\n",
      " [0.01 0.01 0.   1.  ]]\n"
     ]
    }
   ],
   "source": [
    "noise = np.eye(4) + 0.01 * np.random.random([4, 4])\n",
    "print(np.round(noise, 2))"
   ]
  },
  {
   "cell_type": "markdown",
   "metadata": {},
   "source": [
    "## ufnc (벡터화된 유니버셜 함수)\n",
    "파이썬의 사칙연산과 관계형 연산자의 가능성을 넓힘"
   ]
  },
  {
   "cell_type": "code",
   "execution_count": 32,
   "metadata": {},
   "outputs": [
    {
     "name": "stdout",
     "output_type": "stream",
     "text": [
      "[140.49   0.97  40.68  41.53  55.7   57.21  98.2   99.19 109.96 111.47\n",
      "  35.71  36.27  87.85  89.11  30.22  30.91]\n"
     ]
    }
   ],
   "source": [
    "# ufnc\n",
    "stocks = np.array([140.49, 0.97, 40.68, 41.53, 55.7, 57.21, 98.2, 99.19, 109.96, 111.47, 35.71, 36.27, 87.85, 89.11, 30.22, 30.91])\n",
    "print(stocks)\n"
   ]
  },
  {
   "cell_type": "code",
   "execution_count": 33,
   "metadata": {},
   "outputs": [
    {
     "name": "stdout",
     "output_type": "stream",
     "text": [
      "[[140.49  40.68  55.7   98.2  109.96  35.71  87.85  30.22]\n",
      " [  0.97  41.53  57.21  99.19 111.47  36.27  89.11  30.91]]\n"
     ]
    }
   ],
   "source": [
    "stocks = stocks.reshape(8,2).T\n",
    "print(stocks)"
   ]
  },
  {
   "cell_type": "code",
   "execution_count": 34,
   "metadata": {},
   "outputs": [
    {
     "name": "stdout",
     "output_type": "stream",
     "text": [
      "[ True False False False False False False False]\n"
     ]
    }
   ],
   "source": [
    "fall = np.greater(stocks[0], stocks[1])\n",
    "print(fall)"
   ]
  },
  {
   "cell_type": "code",
   "execution_count": 35,
   "metadata": {},
   "outputs": [
    {
     "name": "stdout",
     "output_type": "stream",
     "text": [
      "['MMM']\n"
     ]
    }
   ],
   "source": [
    "print(sap[fall])"
   ]
  },
  {
   "cell_type": "code",
   "execution_count": 36,
   "metadata": {},
   "outputs": [
    {
     "name": "stdout",
     "output_type": "stream",
     "text": [
      "[[False False False False False False False False]\n",
      " [ True False False False False False False False]]\n"
     ]
    }
   ],
   "source": [
    "# isnan() : 결측치를 찾을 때 쓰기 좋음\n",
    "stocks[1, 0] = np.nan # change [1, 0] into nan for exercise\n",
    "print(np.isnan(stocks))"
   ]
  },
  {
   "cell_type": "code",
   "execution_count": 37,
   "metadata": {},
   "outputs": [
    {
     "name": "stdout",
     "output_type": "stream",
     "text": [
      "[[140.49  40.68  55.7   98.2  109.96  35.71  87.85  30.22]\n",
      " [  0.    41.53  57.21  99.19 111.47  36.27  89.11  30.91]]\n"
     ]
    }
   ],
   "source": [
    "stocks[np.isnan(stocks)] = 0\n",
    "print(stocks)"
   ]
  },
  {
   "cell_type": "markdown",
   "metadata": {},
   "source": [
    "# where(c, a, b)\n",
    "논리연산자"
   ]
  },
  {
   "cell_type": "code",
   "execution_count": 39,
   "metadata": {},
   "outputs": [
    {
     "name": "stdout",
     "output_type": "stream",
     "text": [
      "[-140.49    0.      1.51    0.      1.51    0.      1.26    0.  ]\n"
     ]
    }
   ],
   "source": [
    "# where() : boolean array (c), array (a), arrab (b)\n",
    "# d[i] = a[i] if c[i] else b[i]\n",
    "changes = np.where(np.abs(stocks[1] - stocks[0]) > 1.00, stocks[1]-stocks[0], 0)\n",
    "print(changes)"
   ]
  },
  {
   "cell_type": "code",
   "execution_count": 40,
   "metadata": {},
   "outputs": [
    {
     "name": "stdout",
     "output_type": "stream",
     "text": [
      "['MMM' 'ABBV' 'ACE' 'ADBE']\n"
     ]
    }
   ],
   "source": [
    "# nonzero() : return index of element which is not zero\n",
    "print(sap[np.nonzero(changes)])"
   ]
  },
  {
   "cell_type": "code",
   "execution_count": 42,
   "metadata": {},
   "outputs": [
    {
     "name": "stdout",
     "output_type": "stream",
     "text": [
      "['MMM' 'ABBV' 'ACE' 'ADBE']\n"
     ]
    }
   ],
   "source": [
    "# same result, but more simple code\n",
    "print(sap[np.abs(stocks[1] - stocks[0]) > 1.00])"
   ]
  },
  {
   "cell_type": "markdown",
   "metadata": {},
   "source": [
    "# ex) log 계산에서 0 이하 제외 방법"
   ]
  },
  {
   "cell_type": "markdown",
   "metadata": {},
   "source": [
    "## mean(), sum(), std(), min(), max()"
   ]
  },
  {
   "cell_type": "code",
   "execution_count": 43,
   "metadata": {},
   "outputs": [
    {
     "name": "stdout",
     "output_type": "stream",
     "text": [
      "['MMM']\n"
     ]
    }
   ],
   "source": [
    "# mean(), sum(), std(), min(), max()\n",
    "# 주식 중 전체 8개 주식의 평균적인 수준보다 크게 변화된 주식 추출\n",
    "print(sap[np.abs(stocks[0] - stocks[1]) > np.mean(np.abs(stocks[0] - stocks[1]))])"
   ]
  },
  {
   "cell_type": "code",
   "execution_count": null,
   "metadata": {},
   "outputs": [],
   "source": [
    "# more..."
   ]
  }
 ],
 "metadata": {
  "kernelspec": {
   "display_name": "Python 3",
   "language": "python",
   "name": "python3"
  },
  "language_info": {
   "codemirror_mode": {
    "name": "ipython",
    "version": 3
   },
   "file_extension": ".py",
   "mimetype": "text/x-python",
   "name": "python",
   "nbconvert_exporter": "python",
   "pygments_lexer": "ipython3",
   "version": "3.7.1"
  }
 },
 "nbformat": 4,
 "nbformat_minor": 2
}
